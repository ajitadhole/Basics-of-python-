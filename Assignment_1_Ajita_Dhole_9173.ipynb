{
  "nbformat": 4,
  "nbformat_minor": 0,
  "metadata": {
    "colab": {
      "name": "Assignment 1_Ajita Dhole_9173",
      "provenance": [],
      "authorship_tag": "ABX9TyOFKzIFdK7ih+w/RcDUDYBn",
      "include_colab_link": true
    },
    "kernelspec": {
      "name": "python3",
      "display_name": "Python 3"
    },
    "language_info": {
      "name": "python"
    }
  },
  "cells": [
    {
      "cell_type": "markdown",
      "metadata": {
        "id": "view-in-github",
        "colab_type": "text"
      },
      "source": [
        "<a href=\"https://colab.research.google.com/github/ajitadhole/Basics-of-python-/blob/main/Assignment_1_Ajita_Dhole_9173.ipynb\" target=\"_parent\"><img src=\"https://colab.research.google.com/assets/colab-badge.svg\" alt=\"Open In Colab\"/></a>"
      ]
    },
    {
      "cell_type": "code",
      "source": [
        "Name=(\"Ajita Dhole\")\n",
        "Roll_no=9173"
      ],
      "metadata": {
        "id": "_TA2YxeQCnQV"
      },
      "execution_count": null,
      "outputs": []
    },
    {
      "cell_type": "markdown",
      "source": [
        "Lists"
      ],
      "metadata": {
        "id": "WZpEbmRLDBBK"
      }
    },
    {
      "cell_type": "code",
      "source": [
        "\n",
        "A=[\"Ajita Dhole\",20,\"Student\"]\n",
        "B=[\"SP College\",\"Pune\",\"Class=TYBSC\"]\n",
        "print(A)\n",
        "print(B)"
      ],
      "metadata": {
        "colab": {
          "base_uri": "https://localhost:8080/"
        },
        "id": "-4sRzT4YDFOq",
        "outputId": "92391426-60ed-44a8-d857-3985e69f4e98"
      },
      "execution_count": null,
      "outputs": [
        {
          "output_type": "stream",
          "name": "stdout",
          "text": [
            "['Ajita Dhole', 20, 'Student']\n",
            "['SP College', 'Pune', 'Class=TYBSC']\n"
          ]
        }
      ]
    },
    {
      "cell_type": "markdown",
      "source": [
        "Tuples"
      ],
      "metadata": {
        "id": "ZfCdS0hjEkSc"
      }
    },
    {
      "cell_type": "code",
      "source": [
        "a=[\"Ajita Dhole\",20,\"Student\"]\n",
        "b=[\"SP College\",\"Pune\",\"Class=TYBSC\"]\n",
        "print(a)\n",
        "print(b)"
      ],
      "metadata": {
        "colab": {
          "base_uri": "https://localhost:8080/"
        },
        "id": "y49hgXJzEma6",
        "outputId": "a9a5b68c-d821-4188-eaf9-bf75cdefee13"
      },
      "execution_count": null,
      "outputs": [
        {
          "output_type": "stream",
          "name": "stdout",
          "text": [
            "['Ajita Dhole', 20, 'Student']\n",
            "['SP College', 'Pune', 'Class=TYBSC']\n"
          ]
        }
      ]
    },
    {
      "cell_type": "code",
      "source": [
        "print(A[0:4])\n",
        "print(B[2:3])\n",
        "print(a[2])\n",
        "print(b[2])"
      ],
      "metadata": {
        "colab": {
          "base_uri": "https://localhost:8080/"
        },
        "id": "VO7ABY1QE7vR",
        "outputId": "f1fdb7cb-6b72-49d9-a32a-ce6ad34506c5"
      },
      "execution_count": null,
      "outputs": [
        {
          "output_type": "stream",
          "name": "stdout",
          "text": [
            "['Ajita Dhole', 20, 'Student']\n",
            "['Class=TYBSC']\n",
            "Student\n",
            "Class=TYBSC\n"
          ]
        }
      ]
    },
    {
      "cell_type": "code",
      "source": [
        "print(type(A))\n",
        "print(type(B))\n",
        "print(type(a))\n",
        "print(type(b))"
      ],
      "metadata": {
        "colab": {
          "base_uri": "https://localhost:8080/"
        },
        "id": "PXZ8Eg5MF2B2",
        "outputId": "304b4292-5d4b-4d20-c826-6ea1e31d11a4"
      },
      "execution_count": null,
      "outputs": [
        {
          "output_type": "stream",
          "name": "stdout",
          "text": [
            "<class 'list'>\n",
            "<class 'list'>\n",
            "<class 'list'>\n",
            "<class 'list'>\n"
          ]
        }
      ]
    },
    {
      "cell_type": "code",
      "source": [
        "print(A)\n",
        "A1=A.copy()\n",
        "print(A1)\n",
        "\n",
        "# Tupples cannot be copied"
      ],
      "metadata": {
        "colab": {
          "base_uri": "https://localhost:8080/"
        },
        "id": "b_ApQP5pF8B_",
        "outputId": "03f0883e-cb32-4f04-f7aa-a7c06326d19c"
      },
      "execution_count": null,
      "outputs": [
        {
          "output_type": "stream",
          "name": "stdout",
          "text": [
            "['Ajita Dhole', 20, 'Student']\n",
            "['Ajita Dhole', 20, 'Student']\n"
          ]
        }
      ]
    },
    {
      "cell_type": "code",
      "source": [
        "print(B)\n",
        "B.append(\"Autonomous\")\n",
        "print(B)\n",
        "\n",
        "# Tupples cannot be changed"
      ],
      "metadata": {
        "colab": {
          "base_uri": "https://localhost:8080/"
        },
        "id": "TD4YQMEFGOQY",
        "outputId": "ed55c308-5cf1-4f03-882d-14bf317d5aff"
      },
      "execution_count": null,
      "outputs": [
        {
          "output_type": "stream",
          "name": "stdout",
          "text": [
            "['SP College', 'Pune', 'Class=TYBSC', 'Autonomous']\n",
            "['SP College', 'Pune', 'Class=TYBSC', 'Autonomous', 'Autonomous']\n"
          ]
        }
      ]
    },
    {
      "cell_type": "markdown",
      "source": [
        "Count"
      ],
      "metadata": {
        "id": "mQtoxiZpGh8Q"
      }
    },
    {
      "cell_type": "code",
      "source": [
        "print(A.count(\"Ajita\"))\n",
        "A.append(\"Ajita\")\n",
        "print(A.count(\"Ajita\"))"
      ],
      "metadata": {
        "colab": {
          "base_uri": "https://localhost:8080/"
        },
        "id": "tfnRANVAGkC6",
        "outputId": "67944e50-8e57-4f69-da27-340bc65ffc55"
      },
      "execution_count": null,
      "outputs": [
        {
          "output_type": "stream",
          "name": "stdout",
          "text": [
            "0\n",
            "1\n"
          ]
        }
      ]
    },
    {
      "cell_type": "markdown",
      "source": [
        "Sort"
      ],
      "metadata": {
        "id": "Ntxz1bO9H6-u"
      }
    },
    {
      "cell_type": "code",
      "source": [
        "K=[\"D\",\"A\",\"C\",\"B\"]\n",
        "print(K)\n",
        "K1=[4,2,1,3]\n",
        "print(K1)\n",
        "K.sort()\n",
        "K1.sort()\n",
        "print(K)\n",
        "print(K1)"
      ],
      "metadata": {
        "colab": {
          "base_uri": "https://localhost:8080/"
        },
        "id": "Wql1IAYrH4dN",
        "outputId": "eb2cf079-615f-4414-89a1-d937c2d3a486"
      },
      "execution_count": null,
      "outputs": [
        {
          "output_type": "stream",
          "name": "stdout",
          "text": [
            "['D', 'A', 'C', 'B']\n",
            "[4, 2, 1, 3]\n",
            "['A', 'B', 'C', 'D']\n",
            "[1, 2, 3, 4]\n"
          ]
        }
      ]
    },
    {
      "cell_type": "markdown",
      "source": [
        "Access"
      ],
      "metadata": {
        "id": "983_FHQoIr-7"
      }
    },
    {
      "cell_type": "code",
      "source": [
        "\n",
        "print(K[:2])\n",
        "print(K1[0:])"
      ],
      "metadata": {
        "colab": {
          "base_uri": "https://localhost:8080/"
        },
        "id": "3CnmpeTnIu2B",
        "outputId": "8e44add3-aa86-4dce-bd05-6a9fb91053f8"
      },
      "execution_count": null,
      "outputs": [
        {
          "output_type": "stream",
          "name": "stdout",
          "text": [
            "['A', 'B']\n",
            "[1, 2, 3, 4]\n"
          ]
        }
      ]
    },
    {
      "cell_type": "markdown",
      "source": [
        "Nested list"
      ],
      "metadata": {
        "id": "v6NSVczpI4xZ"
      }
    },
    {
      "cell_type": "code",
      "source": [
        "ABlist=[\"Ajita\",\"SP COllege\",[20,\"Pune\"]]\n",
        "print(ABlist)\n",
        "print(ABlist[2])"
      ],
      "metadata": {
        "colab": {
          "base_uri": "https://localhost:8080/"
        },
        "id": "5coZE1VrI8Lj",
        "outputId": "8555b28e-aab5-45eb-a0d3-6c5dff57a2df"
      },
      "execution_count": null,
      "outputs": [
        {
          "output_type": "stream",
          "name": "stdout",
          "text": [
            "['Ajita', 'SP COllege', [20, 'Pune']]\n",
            "[20, 'Pune']\n"
          ]
        }
      ]
    }
  ]
}