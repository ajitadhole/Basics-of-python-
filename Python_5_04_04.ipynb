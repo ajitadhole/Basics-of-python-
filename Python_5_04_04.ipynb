{
  "nbformat": 4,
  "nbformat_minor": 0,
  "metadata": {
    "colab": {
      "name": "Python 5 04/04.ipynb",
      "provenance": [],
      "authorship_tag": "ABX9TyOIvWuNONHw9+HOGiXAjtsv",
      "include_colab_link": true
    },
    "kernelspec": {
      "name": "python3",
      "display_name": "Python 3"
    },
    "language_info": {
      "name": "python"
    }
  },
  "cells": [
    {
      "cell_type": "markdown",
      "metadata": {
        "id": "view-in-github",
        "colab_type": "text"
      },
      "source": [
        "<a href=\"https://colab.research.google.com/github/ajitadhole/Basics-of-python-/blob/main/Python_5_04_04.ipynb\" target=\"_parent\"><img src=\"https://colab.research.google.com/assets/colab-badge.svg\" alt=\"Open In Colab\"/></a>"
      ]
    },
    {
      "cell_type": "code",
      "execution_count": null,
      "metadata": {
        "colab": {
          "base_uri": "https://localhost:8080/"
        },
        "id": "rYXvFahbC7fp",
        "outputId": "8afc9d0e-e5a8-46ad-8b03-506caed1c121"
      },
      "outputs": [
        {
          "output_type": "stream",
          "name": "stdout",
          "text": [
            "a is greater than or equal to b\n"
          ]
        }
      ],
      "source": [
        "a=1000\n",
        "b=1000\n",
        "if a>=b:\n",
        "   print (\"a is greater than or equal to b\")"
      ]
    },
    {
      "cell_type": "code",
      "source": [
        "a=16\n",
        "b=12\n",
        "if a>b:\n",
        "   print (\"Ajita\")\n",
        "print (\"Alex\")"
      ],
      "metadata": {
        "colab": {
          "base_uri": "https://localhost:8080/"
        },
        "id": "3Bqe6Ov5DT5g",
        "outputId": "01e4d3f9-22e2-4d98-e48f-94245cd9f67e"
      },
      "execution_count": null,
      "outputs": [
        {
          "output_type": "stream",
          "name": "stdout",
          "text": [
            "Ajita\n",
            "Alex\n"
          ]
        }
      ]
    },
    {
      "cell_type": "code",
      "source": [
        "#if....else statement\n",
        "a=16\n",
        "b=6\n",
        "if a>b:\n",
        "  print (\"Ajita\")\n",
        "else:\n",
        "  print (\"Alex\")"
      ],
      "metadata": {
        "colab": {
          "base_uri": "https://localhost:8080/"
        },
        "id": "AmmgPizxDzb_",
        "outputId": "0f91e31e-8404-4665-bae8-5366727d8a58"
      },
      "execution_count": null,
      "outputs": [
        {
          "output_type": "stream",
          "name": "stdout",
          "text": [
            "Ajita\n"
          ]
        }
      ]
    },
    {
      "cell_type": "code",
      "source": [
        "num=10\n",
        "if num>10:\n",
        "  print (\"Positive number\")\n",
        "else:\n",
        "  print (\"Negative number\")"
      ],
      "metadata": {
        "colab": {
          "base_uri": "https://localhost:8080/"
        },
        "id": "fS7QgE71Eftw",
        "outputId": "1a01f61e-2238-473f-9bc0-71bd90af8553"
      },
      "execution_count": null,
      "outputs": [
        {
          "output_type": "stream",
          "name": "stdout",
          "text": [
            "Negative number\n"
          ]
        }
      ]
    }
  ]
}