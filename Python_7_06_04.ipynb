{
  "nbformat": 4,
  "nbformat_minor": 0,
  "metadata": {
    "colab": {
      "name": "Python 7_06/04",
      "provenance": [],
      "authorship_tag": "ABX9TyOVeK0tRb7aov3tRNJUnKA5",
      "include_colab_link": true
    },
    "kernelspec": {
      "name": "python3",
      "display_name": "Python 3"
    },
    "language_info": {
      "name": "python"
    }
  },
  "cells": [
    {
      "cell_type": "markdown",
      "metadata": {
        "id": "view-in-github",
        "colab_type": "text"
      },
      "source": [
        "<a href=\"https://colab.research.google.com/github/ajitadhole/Basics-of-python-/blob/main/Python_7_06_04.ipynb\" target=\"_parent\"><img src=\"https://colab.research.google.com/assets/colab-badge.svg\" alt=\"Open In Colab\"/></a>"
      ]
    },
    {
      "cell_type": "code",
      "execution_count": null,
      "metadata": {
        "id": "trntiyW_PVO1"
      },
      "outputs": [],
      "source": [
        "Name= \"Ajita Dhole\"\n",
        "Roll_no= 9173"
      ]
    },
    {
      "cell_type": "code",
      "source": [
        "\n",
        "# Know the Divisional HQ of Districts of various all regions of Maharashtra\n",
        "# Maharashtra State is Mainly Divided in the 5 regions Geographically.\n",
        "#Maharashtra = (\"Kokan, west_Maharashtra, North_Maharashtra, Marathwada, Vidarbh\")\n",
        "city =input(\"Enter city Name \")\n",
        "West_Maharashtra = (\"Kolhapur, Pune, Sangli, Satara, Solapur\")\n",
        "North_Maharashtra = (\"Dhule, Jalgaon, Nandurbar, Nashik,Ahmednagar\")\n",
        "Marathwada = (\"Aurangabad, Beed, Jalna, Osmanabad, Nanded, Latur, Parbhani, Hingoli\")\n",
        "Vidarbh = (\"Bhandara, Chandrapur, Gadch iroli, Gondia, Nagpur, Wardha, Akola, Amravati, Buldana, Yavatmal, Washim\")\n",
        "Amravati = (\"Akola, Amravati, Buldana, Yavatmal, Washim\")\n",
        "Kokan = (\"Mumbai City, Mumbai Suburban, Thane, Palghar, Raigad, Ratnagiri ,Sindhudurg\")"
      ],
      "metadata": {
        "colab": {
          "base_uri": "https://localhost:8080/"
        },
        "id": "DWmltHbcZzTB",
        "outputId": "c5a9c95a-fb6b-4051-e1e1-fd19dc992129"
      },
      "execution_count": null,
      "outputs": [
        {
          "name": "stdout",
          "output_type": "stream",
          "text": [
            "Enter city Name Pune\n"
          ]
        }
      ]
    },
    {
      "cell_type": "code",
      "source": [
        "\n",
        "if city in Kokan:\n",
        "    print(\"Division HQ is Located in Mumbai\")\n",
        "elif city in West_Maharashtra:\n",
        "    print(\"Division HQ is Located in Pune\")\n",
        "elif city in North_Maharashtra:\n",
        "    print(\"Division HQ is Located Nasik\")\n",
        "elif city in Marathwada:\n",
        "    print(\"Division HQ is Located in Aurangabad\")\n",
        "elif city in Vidarbh:\n",
        "    print(\"Division HQ is Located in Amravati\")\n",
        "else:\n",
        "    print(\"Division HQ is Located in Nagpur\")    \n",
        "#City not is Maharashtra \n",
        "    print(\"City is out of Maharashtra\")"
      ],
      "metadata": {
        "colab": {
          "base_uri": "https://localhost:8080/"
        },
        "id": "-X2PW-doZnYj",
        "outputId": "6eb97823-10f6-4263-dcf1-8aa4c6b1f4ce"
      },
      "execution_count": null,
      "outputs": [
        {
          "output_type": "stream",
          "name": "stdout",
          "text": [
            "Division HQ is Located in Pune\n"
          ]
        }
      ]
    }
  ]
}